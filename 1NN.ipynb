{
 "cells": [
  {
   "cell_type": "markdown",
   "id": "3be8e6d4",
   "metadata": {},
   "source": [
    "This notebook contains the implementation of 1 nearest neighbour. </h1></u>"
   ]
  },
  {
   "cell_type": "markdown",
   "id": "aa40d192",
   "metadata": {},
   "source": [
    "<b><i>Import the following libraries:\n",
    "- numpy\n",
    "- sys\n",
    "- math</b></i>"
   ]
  },
  {
   "cell_type": "code",
   "execution_count": 192,
   "id": "5c820aac",
   "metadata": {},
   "outputs": [],
   "source": [
    "import numpy as np\n",
    "import sys\n",
    "import math"
   ]
  },
  {
   "cell_type": "markdown",
   "id": "7038b9e6",
   "metadata": {},
   "source": [
    "<h1><u> Implementation of 1-NN</h1></u>"
   ]
  },
  {
   "cell_type": "markdown",
   "id": "69a5d11e",
   "metadata": {},
   "source": [
    "<b>Import Iris dataset from sklearn.datasets</b>"
   ]
  },
  {
   "cell_type": "code",
   "execution_count": 193,
   "id": "515e9b65",
   "metadata": {},
   "outputs": [],
   "source": [
    "from sklearn.datasets import load_iris\n",
    "iris = load_iris()"
   ]
  },
  {
   "cell_type": "markdown",
   "id": "b3cd2839",
   "metadata": {},
   "source": [
    "<b>Import Ionosphere dataset from local environment.\n",
    "   <br> Here, path = '< dummy path >'</b>"
   ]
  },
  {
   "cell_type": "code",
   "execution_count": 194,
   "id": "8e912ce5",
   "metadata": {},
   "outputs": [],
   "source": [
    "X = np.genfromtxt(\"< dummy path >\", delimiter=\",\", usecols=np.arange(34))\n",
    "y = np.genfromtxt(\"< dummy path >\", delimiter=\",\", usecols=34, dtype='int')"
   ]
  },
  {
   "cell_type": "markdown",
   "id": "ba1dfc70",
   "metadata": {},
   "source": [
    "<b>Split Iris and Ionosphere datasets using train_test_split.\n",
    "- For Iris dataset, X_train_IR, X_test_IR, y_train_IR, y_test_IR are used.\n",
    "- For Ionosphere dataset, X_train_IO, X_test_IO, y_train_IO, y_test_IO are used.\n"
   ]
  },
  {
   "cell_type": "code",
   "execution_count": 195,
   "id": "ef724382",
   "metadata": {},
   "outputs": [],
   "source": [
    "from sklearn.model_selection import train_test_split\n",
    "X_train_IR, X_test_IR, y_train_IR, y_test_IR = train_test_split(iris.data, iris.target, random_state=39)\n",
    "X_train_IO, X_test_IO, y_train_IO, y_test_IO = train_test_split(X, y, random_state=309)"
   ]
  },
  {
   "cell_type": "markdown",
   "id": "f27feddd",
   "metadata": {},
   "source": [
    "<b>euclidean_distance_for_1nn function is used to calculate distance between each sample of test set with training set for 1 nearest neighbor. <br>\n",
    "It takes two vectors as inputs and returns the resultant distance.</b>"
   ]
  },
  {
   "cell_type": "code",
   "execution_count": 196,
   "id": "cba04214",
   "metadata": {},
   "outputs": [],
   "source": [
    "def euclidean_distance_for_1nn(vec1, vec2):\n",
    "    distance = 0.0 \n",
    "    for i in range(len(vec1)):\n",
    "        distance = distance + ((vec1[i]-vec2[i])**2)\n",
    "    return math.sqrt(distance)"
   ]
  },
  {
   "cell_type": "markdown",
   "id": "13506bdb",
   "metadata": {},
   "source": [
    "<b> Find 1 nearest neighbor for IRIS dataset.<br>\n",
    "    The below cell contains the code that finds the minimum value of the distance and index for the same.<br>\n",
    "    It also stores the labels for the test samples. \n",
    "    </b>"
   ]
  },
  {
   "cell_type": "code",
   "execution_count": 197,
   "id": "1dba01f6",
   "metadata": {},
   "outputs": [],
   "source": [
    "predictions = list()\n",
    "for i in X_test_IR:\n",
    "    minimum = sys.maxsize\n",
    "    for j in range(len(X_train_IR)):\n",
    "        distance1 = euclidean_distance_for_1nn(list(i),list(X_train_IR[j]))\n",
    "        if minimum > distance1:\n",
    "            minimum = distance1\n",
    "            index = j\n",
    "    predictions.append(y_train_IR[index])"
   ]
  },
  {
   "cell_type": "markdown",
   "id": "61a4ee32",
   "metadata": {},
   "source": [
    "<b>Print the predictions along with accuracy rate, error count and error rate for IRIS dataset for 1 nearest neighbour.</b>"
   ]
  },
  {
   "cell_type": "code",
   "execution_count": 198,
   "id": "a9ad19bc",
   "metadata": {},
   "outputs": [
    {
     "name": "stdout",
     "output_type": "stream",
     "text": [
      "Insights for Iris test dataset for 1 nearest neighbour:\n",
      "\n",
      "Labels for all the elements of the test set: \n",
      "[0, 0, 2, 1, 0, 0, 2, 0, 2, 2, 1, 0, 2, 1, 1, 1, 2, 2, 2, 0, 2, 0, 0, 1, 1, 0, 1, 1, 2, 1, 1, 0, 2, 1, 1, 0, 2, 1]\n",
      "\n",
      " Error count: 1 \n",
      "\n",
      " Accuracy rate: 0.9736842105263158\n",
      "\n",
      " Error rate: 0.02631578947368418\n"
     ]
    }
   ],
   "source": [
    "print('Insights for Iris test dataset for 1 nearest neighbour:\\n')\n",
    "print(f'Labels for all the elements of the test set: \\n{predictions}')\n",
    "print(f'\\n Error count: {sum(predictions!=y_test_IR)} ')\n",
    "print(f'\\n Accuracy rate: {np.mean(predictions==y_test_IR)}')\n",
    "print(f'\\n Error rate: {1-np.mean(predictions==y_test_IR)}')"
   ]
  },
  {
   "cell_type": "markdown",
   "id": "1e31eed6",
   "metadata": {},
   "source": [
    "<b>Find 1 nearest neighbor for IONOSPHERE dataset.<br>The below cell contains the code that finds the minimum value of the distance and index for the same.<br>\n",
    "    It also stores the labels for the test samples. </b>"
   ]
  },
  {
   "cell_type": "code",
   "execution_count": 199,
   "id": "2707d75e",
   "metadata": {},
   "outputs": [],
   "source": [
    "predictions_IO = []\n",
    "for i in X_test_IO:\n",
    "    minimum = sys.maxsize\n",
    "    for j in range(len(X_train_IO)):\n",
    "        distance1 = euclidean_distance_for_1nn(list(i),list(X_train_IO[j]))\n",
    "        if minimum > distance1 :\n",
    "            minimum = distance1\n",
    "            index = j\n",
    "    predictions_IO.append(y_train_IO[index])"
   ]
  },
  {
   "cell_type": "markdown",
   "id": "c053334e",
   "metadata": {},
   "source": [
    "<b>Print the predictions along with accuracy rate, error count and error rate for IONOSPHERE dataset for 1 nearest neighbour.</b>"
   ]
  },
  {
   "cell_type": "code",
   "execution_count": 200,
   "id": "45f59e76",
   "metadata": {},
   "outputs": [
    {
     "name": "stdout",
     "output_type": "stream",
     "text": [
      "Insights for Ionosphere test dataset for 1 nearest neighbour:\n",
      "\n",
      "Labels for all the elements of the test set: \n",
      "[1, 1, 1, 1, -1, 1, 1, 1, -1, 1, 1, 1, 1, 1, 1, 1, 1, 1, 1, 1, 1, 1, 1, 1, 1, -1, 1, 1, 1, 1, -1, 1, 1, 1, 1, 1, 1, 1, 1, 1, 1, 1, 1, 1, -1, 1, -1, 1, -1, 1, 1, 1, 1, 1, 1, 1, 1, -1, -1, 1, -1, 1, 1, 1, -1, 1, 1, 1, 1, -1, 1, -1, 1, 1, 1, 1, 1, -1, 1, 1, 1, 1, -1, -1, 1, 1, 1, 1]\n",
      "\n",
      " Accuracy rate: 0.8181818181818182\n",
      "\n",
      " Error rate: 0.18181818181818177\n"
     ]
    }
   ],
   "source": [
    "print('Insights for Ionosphere test dataset for 1 nearest neighbour:\\n')\n",
    "print(f'Labels for all the elements of the test set: \\n{predictions_IO}')\n",
    "print(f'\\n Accuracy rate: {np.mean(predictions_IO==y_test_IO)}')\n",
    "print(f'\\n Error rate: {1-np.mean(predictions_IO==y_test_IO)}')"
   ]
  }
 ],
 "metadata": {
  "kernelspec": {
   "display_name": "Python 3 (ipykernel)",
   "language": "python",
   "name": "python3"
  },
  "language_info": {
   "codemirror_mode": {
    "name": "ipython",
    "version": 3
   },
   "file_extension": ".py",
   "mimetype": "text/x-python",
   "name": "python",
   "nbconvert_exporter": "python",
   "pygments_lexer": "ipython3",
   "version": "3.8.8"
  }
 },
 "nbformat": 4,
 "nbformat_minor": 5
}
